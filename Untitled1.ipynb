{
 "cells": [
  {
   "cell_type": "markdown",
   "metadata": {},
   "source": [
    "DUALIDADE\n",
    "\n",
    "Yin yang?\n",
    "\n",
    "Dual é importante por causa do preço sombra?\n",
    "\n",
    "Do dual da para achar o resultado do primal e vice-versa\n",
    "\n",
    "Dual pode ser mais fácil de resolver que o primal me algum dos casos. Por que, resolver um problema com muitas variáveis é bem mais osso do que um com muitas restrições, por que muitas restrições diminuem a região factível.\n",
    "\n",
    "Ou seja, se voce tem muita variavel e pouca restrição, faça o dual, I guess.\n",
    "\n",
    "Descobrindo o custo marginal do recurso (preço sombra)\n",
    "\n",
    "Mostrar formulas canonicas (ta no ppt)\n",
    "\n",
    "Teorema da Dualidade Fraca\n",
    "\n",
    "Toda solucao factivel do problema dual é um limitante superior do valor otimo do problema primal.\n",
    "\n",
    "Ou seja, se voce nao sabe resolver o primal, resolvendo o dual, voce tem um limitante superior para o seu problema.\n",
    "\n",
    "Você tem o memso valor de FO mas nao tem o mesmo valor de variaveis!\n"
   ]
  },
  {
   "cell_type": "markdown",
   "metadata": {},
   "source": [
    "Dual Simplex\n",
    "\n",
    "no primal, cj-zj dão as variaveis do dual mas negativas!\n",
    "\n",
    "com folgas associadas ao x e y as folgas primais\n",
    "\n",
    "\n",
    "para reverter a infactibilidade do primal, o RHS mais infactivel é o que sai.\n",
    "\n",
    "Para ver quem entra, calculamos o theta em LINHA no tableau (c/linha da var que sai!), e vida segue, o que entra vira pivo, gauss-jordan e vai que vai\n",
    "\n",
    "\n",
    "exemplo:\n",
    "\n",
    "min 4x1 + 7x2\n",
    "\n",
    "2x1 + 3x2 >= 5\n",
    "1x1 + 7x2 >=9\n",
    "\n",
    "no momento que o primal fica factivel (rhs > 0 num prob de max) chegamos na sol otima"
   ]
  },
  {
   "cell_type": "markdown",
   "metadata": {},
   "source": [
    "Primal-Dual Simplex\n",
    "\n",
    "\n",
    "\n",
    "Max z = -x1 + 5x2\n",
    "\n",
    "st\n",
    "\n",
    "2x1 - 3x2 >=1\n",
    "x1 + x2 <= 3\n",
    "\n",
    "\n",
    "Tanto o dual como o primal estao infactivel nessa!\n",
    "\n",
    "No caso, escolhemos começar pelo primal, tanto faz\n",
    "\n",
    "entao por isso, saiu x4 e entrou x2. O theta agora vai ser feito tanto para coluna do tableau (quando problema é primal) como para linha (quando resolvendo o dual)\n"
   ]
  }
 ],
 "metadata": {
  "kernelspec": {
   "display_name": "Python [Root]",
   "language": "python",
   "name": "Python [Root]"
  },
  "language_info": {
   "codemirror_mode": {
    "name": "ipython",
    "version": 3
   },
   "file_extension": ".py",
   "mimetype": "text/x-python",
   "name": "python",
   "nbconvert_exporter": "python",
   "pygments_lexer": "ipython3",
   "version": "3.5.2"
  }
 },
 "nbformat": 4,
 "nbformat_minor": 0
}
