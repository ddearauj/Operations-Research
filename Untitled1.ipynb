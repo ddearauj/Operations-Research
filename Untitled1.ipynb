{
 "cells": [
  {
   "cell_type": "markdown",
   "metadata": {},
   "source": [
    "DUALIDADE\n",
    "\n",
    "Yin yang?\n",
    "\n",
    "Dual é importante por causa do preço sombra?\n",
    "\n",
    "Do dual da para achar o resultado do primal e vice-versa\n",
    "\n",
    "Dual pode ser mais fácil de resolver que o primal me algum dos casos. Por que, resolver um problema com muitas variáveis é bem mais osso do que um com muitas restrições, por que muitas restrições diminuem a região factível.\n",
    "\n",
    "Ou seja, se voce tem muita variavel e pouca restrição, faça o dual, I guess.\n",
    "\n",
    "Descobrindo o custo marginal do recurso (preço sombra)\n",
    "\n",
    "Mostrar formulas canonicas\n",
    "\n",
    "Teorema da Dualidade Fraca\n",
    "\n",
    "Toda solucao factivel do problema dual é um limitante superior do valor otimo do problema primal.\n",
    "\n",
    "Ou seja, se voce nao sabe resolver o primal, resolvendo o dual, voce tem um limitante superior para o seu problema.\n",
    "\n",
    "Você tem o memso valor de FO mas nao tem o mesmo valor de variaveis!\n"
   ]
  }
 ],
 "metadata": {
  "kernelspec": {
   "display_name": "Python [Root]",
   "language": "python",
   "name": "Python [Root]"
  },
  "language_info": {
   "codemirror_mode": {
    "name": "ipython",
    "version": 3
   },
   "file_extension": ".py",
   "mimetype": "text/x-python",
   "name": "python",
   "nbconvert_exporter": "python",
   "pygments_lexer": "ipython3",
   "version": "3.5.2"
  }
 },
 "nbformat": 4,
 "nbformat_minor": 0
}
