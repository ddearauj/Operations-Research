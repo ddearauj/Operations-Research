{
 "cells": [
  {
   "cell_type": "markdown",
   "metadata": {},
   "source": [
    "## Pesquisa Operacional\n",
    "\n",
    "### Semana 2 - Introdução a PL e Modelagem\n",
    "#### Daniel de Araújo Pereira\n",
    "\n",
    "Classes de problemas estudados são: Otimização de modelos com variaveis continuas (Linear Programming) e com variáveis discretas (Mixed Integer Programming) que tem variaveis de estado (maquina ligada x maquina desligada e etc.)\n",
    "\n",
    "Se a restrição nao estiver esgotada, o preço fantasma é zero.\n",
    "\n",
    "Exemplo da sala de transporte:\n",
    "\n"
   ]
  },
  {
   "cell_type": "code",
   "execution_count": null,
   "metadata": {
    "collapsed": true
   },
   "outputs": [],
   "source": [
    "c = [4 ,2 , 5, 11, 7, 4]\n",
    "A = [[]]"
   ]
  },
  {
   "cell_type": "markdown",
   "metadata": {},
   "source": [
    "Max f = (4*p1 + 10*p2 + 6*p3)\n",
    "\n",
    "s.a.\n",
    "\n",
    "    0.03p1 + 0.15p2 + 0.10p3 <= 400\n",
    "    0.06p1 + 0.12p2 + 0.10p3 <= 400\n",
    "    0.05p1 + 0.10p2 + 0.12p3 <= 500\n",
    "    0.00p1 + 2.00p2 + 1.20p3 <= 2000\n",
    "    \n",
    "    p1 >= 1000\n",
    "    p3 >= 100\n",
    "    p1 <= 6000\n",
    "    p2 <= 500\n",
    "    p3 <= 1000\n",
    "\n"
   ]
  },
  {
   "cell_type": "code",
   "execution_count": 1,
   "metadata": {
    "collapsed": false
   },
   "outputs": [
    {
     "name": "stdout",
     "output_type": "stream",
     "text": [
      "     fun: -27600.0\n",
      " message: 'Optimization terminated successfully.'\n",
      "     nit: 6\n",
      "   slack: array([ 150.,    0.,  163.,  880.,  500.,    0.,  900.,    0.,    0.])\n",
      "  status: 0\n",
      " success: True\n",
      "       x: array([ 5500.,   500.,   100.])\n"
     ]
    }
   ],
   "source": [
    "c = [-4, -10, -6]\n",
    "A = [[0.03, 0.15, 0.1], [0.06, 0.12, 0.1], [0.05, 0.1, 0.12],[0, 2, 1.2]]\n",
    "p1_bounds = (1000, 6000)\n",
    "p2_bounds = (None, 500)\n",
    "p3_bounds = (100, 1000)\n",
    "\n",
    "b = [400, 400, 500, 2000]\n",
    "\n",
    "from scipy.optimize import linprog\n",
    "\n",
    "res = linprog(c, A, b, bounds=(p1_bounds, p2_bounds, p3_bounds))\n",
    "\n",
    "print(res)"
   ]
  },
  {
   "cell_type": "code",
   "execution_count": null,
   "metadata": {
    "collapsed": true
   },
   "outputs": [],
   "source": []
  }
 ],
 "metadata": {
  "anaconda-cloud": {},
  "kernelspec": {
   "display_name": "Python [Root]",
   "language": "python",
   "name": "Python [Root]"
  },
  "language_info": {
   "codemirror_mode": {
    "name": "ipython",
    "version": 3
   },
   "file_extension": ".py",
   "mimetype": "text/x-python",
   "name": "python",
   "nbconvert_exporter": "python",
   "pygments_lexer": "ipython3",
   "version": "3.5.2"
  }
 },
 "nbformat": 4,
 "nbformat_minor": 0
}
