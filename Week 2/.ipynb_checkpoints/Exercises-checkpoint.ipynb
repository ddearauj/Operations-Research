{
 "cells": [
  {
   "cell_type": "markdown",
   "metadata": {},
   "source": [
    "# Operations Research, Exercises for week 2\n",
    "\n",
    "### Daniel de Araujo Pereira\n",
    "\n",
    "## Ex. 1 - Diet Exercise\n",
    "\n",
    "You want to have the cheapest diet that contains 0.300 units of Protein and 0.500 units of Calcium using the ingredients in the table below:\n",
    "\n",
    "<style>\n",
    "table, th, td {\n",
    "    border: 1px solid black;\n",
    "    border-collapse: collapse;\n",
    "}\n",
    "th, td {\n",
    "    padding: 5px;\n",
    "    text-align: left;    \n",
    "}\n",
    "</style>\n",
    "\n",
    "<table>\n",
    "    <tr>\n",
    "        <th>Nutrient</th>\n",
    "        <th>Bone</th>\n",
    "        <th>Soy</th>\n",
    "        <th>Fish</th>\n",
    "    </tr>\n",
    "    <tr>\n",
    "        <td>Protein</td>\n",
    "        <td>0.2</td>\n",
    "        <td>0.5</td>\n",
    "        <td>0.4</td>\n",
    "    </tr>\n",
    "    <tr>\n",
    "        <td>Calcium</td>\n",
    "        <td>0.6</td>\n",
    "        <td>0.2</td>\n",
    "        <td>0.4</td>\n",
    "    </tr>\n",
    "    <tr>\n",
    "        <td>Cost/kg</td>\n",
    "        <td>0.56</td>\n",
    "        <td>0.81</td>\n",
    "        <td>0.46</td>\n",
    "    </tr>\n",
    "</table>"
   ]
  },
  {
   "cell_type": "markdown",
   "metadata": {},
   "source": [
    "So the Linear Programming problem is:\n",
    "\n",
    "\n",
    "$$ \\text{Min } f = 0.56x_{bone} + 0.81x_{soy} + 0.46x_{fish} $$\n",
    "subject to:\n",
    "$$ 0.2x_{bone} + 0.5x_{soy} +  0.4x_{fish} >= 0.3 $$\n",
    "$$ 0.6x_{bone} + 0.2x_{soy} +  0.4x_{fish} >= 0.5 $$\n",
    "$$ x_{bone} + x_{soy} +  x_{fish} = 1 $$"
   ]
  },
  {
   "cell_type": "code",
   "execution_count": 11,
   "metadata": {
    "collapsed": false
   },
   "outputs": [
    {
     "name": "stdout",
     "output_type": "stream",
     "text": [
      "     fun: 0.51000000000000023\n",
      " message: 'Optimization terminated successfully.'\n",
      "     nit: 3\n",
      "   slack: array([ 0.,  0.])\n",
      "  status: 0\n",
      " success: True\n",
      "       x: array([  5.00000000e-01,   2.77555756e-16,   5.00000000e-01])\n"
     ]
    }
   ],
   "source": [
    "from scipy.optimize import linprog\n",
    "\n",
    "cost = [0.56, 0.81, 0.46]\n",
    "\n",
    "A_upper = [[0.2, 0.5, 0.4],\n",
    "           [0.6, 0.2, 0.4]]\n",
    "\n",
    "b_upper = [0.3, 0.5]\n",
    "\n",
    "A_equal = [[1, 1, 1]]\n",
    "b_equal = [1]\n",
    "\n",
    "bone_bounds = (0, None)\n",
    "soy_bounds = (0, None)\n",
    "fish_bounds = (0, None)\n",
    "\n",
    "res = linprog(cost, A_ub=A_upper, b_ub=b_upper, A_eq=A_equal, b_eq=b_equal, bounds=(bone_bounds, soy_bounds, fish_bounds))\n",
    "print(res)"
   ]
  },
  {
   "cell_type": "markdown",
   "metadata": {},
   "source": [
    "So, 500g of bone and 500g of fish"
   ]
  },
  {
   "cell_type": "code",
   "execution_count": null,
   "metadata": {
    "collapsed": true
   },
   "outputs": [],
   "source": [
    "import pandas as pd\n",
    "\n",
    "cost = [[4, 2, 5],[11, 7, 4]]"
   ]
  }
 ],
 "metadata": {
  "kernelspec": {
   "display_name": "Python [Root]",
   "language": "python",
   "name": "Python [Root]"
  },
  "language_info": {
   "codemirror_mode": {
    "name": "ipython",
    "version": 3
   },
   "file_extension": ".py",
   "mimetype": "text/x-python",
   "name": "python",
   "nbconvert_exporter": "python",
   "pygments_lexer": "ipython3",
   "version": "3.5.2"
  }
 },
 "nbformat": 4,
 "nbformat_minor": 2
}
