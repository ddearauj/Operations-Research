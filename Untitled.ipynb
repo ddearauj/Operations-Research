{
 "cells": [
  {
   "cell_type": "markdown",
   "metadata": {},
   "source": [
    "### Simplex Matricial e GAMS\n",
    "\n",
    "Primeiro, colocar na forma padrão\n",
    "\n",
    "    max z = x1 + 2x2\n",
    "    s.a\n",
    "        x1  + 3x2 <= 9\n",
    "       2x1  +  x2 <= 8\n",
    "        x1, x2 >= 0\n",
    "        \n",
    "Forma Padrão:\n",
    "\n",
    "    max z = x1 + 2x2 + 0x3 + 0x4\n",
    "    s.a.\n",
    "         x1 + 3x2 + x3 = 9\n",
    "        2x1 +  x2 + x4 = 8\n",
    "        x1, x2, x3, x4 >=0\n",
    "        \n",
    "xbase = [x3, x4]\n",
    "xbase = [9, 8]\n",
    "xnbase = [x1, x2] = [0, 0]\n",
    "\n",
    "B = [[1, 0], [0, 1]]\n",
    "\n",
    "cbase = [0, 0]\n",
    "cnbase = [1, 2]\n",
    "\n",
    "1) Calculo dos custos relativos: cj - zj das var nao basicas (para ver quem sai)\n",
    "\n",
    "$$ Cn_j - z_j = Cn_j - c_b * a_j $$<br>\n",
    "$$ Cn_j - z_j = Cn_j - c_b*B^{-1}*a_j $$"
   ]
  },
  {
   "cell_type": "markdown",
   "metadata": {},
   "source": [
    "Calculo da direção simplex AKA coluna pivot:\n",
    "\n",
    "$$ a_j' = B^{-1}a_j $$"
   ]
  },
  {
   "cell_type": "markdown",
   "metadata": {},
   "source": [
    "$\\theta$ é RHS/coluna pivot (para ver quem entra)\n",
    "\n",
    "$$ \\min { \\frac{X_b}{a_j} } $$"
   ]
  },
  {
   "cell_type": "markdown",
   "metadata": {},
   "source": [
    "Atualização das bases\n",
    "\n",
    "xb = [x2, x4] = [3, 5]\n",
    "\n",
    "Quem entra, (no caso x dois) assume sempre o valor de $\\theta$. Quem sai, é o valor menos $a_j' \\theta$\n",
    "\n",
    "que no fim da\n",
    "\n",
    "$$ Xb = Xb - a_j'\\theta $$"
   ]
  },
  {
   "cell_type": "code",
   "execution_count": null,
   "metadata": {
    "collapsed": true
   },
   "outputs": [],
   "source": []
  }
 ],
 "metadata": {
  "kernelspec": {
   "display_name": "Python [Root]",
   "language": "python",
   "name": "Python [Root]"
  },
  "language_info": {
   "codemirror_mode": {
    "name": "ipython",
    "version": 3
   },
   "file_extension": ".py",
   "mimetype": "text/x-python",
   "name": "python",
   "nbconvert_exporter": "python",
   "pygments_lexer": "ipython3",
   "version": "3.5.2"
  }
 },
 "nbformat": 4,
 "nbformat_minor": 0
}
