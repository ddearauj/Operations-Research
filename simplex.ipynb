{
 "cells": [
  {
   "cell_type": "code",
   "execution_count": 39,
   "metadata": {
    "collapsed": false
   },
   "outputs": [],
   "source": [
    "import numpy as np\n",
    "\n",
    "def calculate_relative_cost(T, c, base):\n",
    "    \"\"\"\n",
    "    Calculate the zj for the tableau in the iteration j\n",
    "    The relative cost is the value of the basic variables on the obj func * their line in the tableau\n",
    "    \n",
    "    \"\"\"\n",
    "    \n",
    "    zj = np.zeros(c.shape[0])\n",
    "    for j in range(base.shape[0]):\n",
    "        zj = zj + c[base[j]-1]*T[j]\n",
    "    return zj\n",
    "\n",
    "def check_unbounded(pivot_col, zero):\n",
    "    \"\"\"\n",
    "    the numpy masked function can check a condition for the whole array. So we will check if all the elements in the\n",
    "    pivot column are less or equal to zero (a value of \"zero\" (a toletance) will be provided)\n",
    "    \n",
    "    >>> ma.masked_where(a <= 2, a)\n",
    "      masked_array(data = [-- -- -- 3],\n",
    "      mask = [ True  True  True False],\n",
    "      fill_value=999999)\n",
    "      \n",
    "    Returns True if unbounded, False if not\n",
    "    \"\"\"\n",
    "    mask = np.ma.masked_where(pivot_col <= zero, pivot_col)\n",
    "    \n",
    "    if (mask.count() == 0):\n",
    "        return True\n",
    "    else:\n",
    "        return False\n",
    "    \n",
    "    \n",
    "\n",
    "def simplex_phase2 (A, b, c):\n",
    "    \"\"\" \n",
    "    On the form of a min problem:\n",
    "    Ax<=b\n",
    "    Since it is the phase 2, it assumes the problem is already in a feasible starting position\n",
    "    Therefore, no artificial variables will be created\n",
    "    \"\"\"\n",
    "    \n",
    "    A = np.asarray(A)\n",
    "    b = np.reshape(b, (-1, 1)) #make it a column array\n",
    "    c = np.asarray(c)\n",
    "    zero = 0.0000001\n",
    "    \n",
    "    \n",
    "    # create the slack variables\n",
    "    # for each restriction in A (i.e. for each line in A) we will add a slack variable\n",
    "    # in the end, it will be like concatenating A and the Identity Matrix\n",
    "    try:\n",
    "        A_rows, A_cols = A.shape\n",
    "    except ValueError:\n",
    "        raise ValueError(\"A must be 2 dimensional\")\n",
    "    \n",
    "    # the slack variables will be from the number of columns + 1 adding the number of a rows\n",
    "    # for example, supose A is a 2x3 matrix\n",
    "    # the slacks will be x4 and x5\n",
    "    # x_column+1 to x_column+1+rows\n",
    "    slacks = np.arange(A_cols + 1, A_cols + 1 + A_rows)\n",
    "    \n",
    "    # the initial basic variables are the slacks\n",
    "    base = np.arange(A_cols + 1, A_cols + 1 + A_rows)\n",
    "    \n",
    "    I = np.identity(A_rows)\n",
    "    \n",
    "    # create the tableau. Which the first line is the cost function\n",
    "    # then A concat. I concat b\n",
    "    \n",
    "    T = np.concatenate((A, I), axis=1)\n",
    "    \n",
    "    # add the cost of the slack variables (0) to the cost array\n",
    "    \n",
    "    c = np.concatenate((c, np.zeros(A_rows)), axis=0)\n",
    "    \n",
    "    # now, we start the loop!\n",
    "    # the steps are:\n",
    "    # calculate cj-zj (the relative cost) to figure out which var is added to the base\n",
    "    # then, get the smallest step to figure out which var will come out of the base\n",
    "    \n",
    "    \n",
    "    solved = False\n",
    "    solutionType = None\n",
    "    i = 0\n",
    "    while not solved:\n",
    "        cjzj = c - calculate_relative_cost(T, c, base)\n",
    "        \n",
    "        # as we are trying to minimize the cost\n",
    "        # we must get the var with the most negative value\n",
    "        # if no non basic var is < 0, then we arrived at end of the simplex method\n",
    "        \n",
    "        if cjzj[cjzj.argmin()] >= 0:\n",
    "            print(\"Solved\\ncjzj = \", cjzj)\n",
    "            solved = True\n",
    "            solutionType = 'optimal'\n",
    "        else: \n",
    "            #print(b)\n",
    "            #print(A)\n",
    "            \n",
    "            new_basic = cjzj.argmin() + 1\n",
    "            pivot_col = T[:, [new_basic - 1]]\n",
    "            print(pivot_col.reshape(-1,1))\n",
    "            \n",
    "            if (not check_unbounded(pivot_col, zero)):\n",
    "                \n",
    "                theta = b/pivot_col.reshape(-1,1)\n",
    "                new_nonbasic = base[theta.argmin()]\n",
    "                base[theta.argmin()] = new_basic\n",
    "                \n",
    "                pivot_denominator = pivot_col[theta.argmin()][0]\n",
    "                print(pivot_denominator)\n",
    "                \n",
    "                # devide pivot row by the pivot_denominator\n",
    "                \n",
    "                pivot_row = T[theta.argmin()]\n",
    "                pivot_row = pivot_row/pivot_denominator\n",
    "                \n",
    "                # using gauss jordan\n",
    "                # row = row - row[pivot_col]*pivot_row\n",
    "                for rows in range(T.shape[0]):\n",
    "                    T[rows] = T[rows] - T[rows][new_basic - 1]*pivot_row\n",
    "                \n",
    "                T[theta.argmin()] = pivot_row\n",
    "                #print(\"Pivot row:\\n\", pivot_row)\n",
    "                #print(\"cjzj\\n\", cjzj)\n",
    "                #print(\"Base:\\n\", base)\n",
    "                #print(\"Tableau:\\n\", T)\n",
    "                \n",
    "                i = i + 1\n",
    "                \n",
    "                if i >= 10:\n",
    "                    solved = True\n",
    "            \n",
    "            else:\n",
    "                solved = True\n",
    "                solutionType = \"unbounded\""
   ]
  },
  {
   "cell_type": "code",
   "execution_count": 40,
   "metadata": {
    "collapsed": false
   },
   "outputs": [
    {
     "name": "stdout",
     "output_type": "stream",
     "text": [
      "[[ 3.]\n",
      " [ 1.]]\n",
      "3.0\n",
      "[[ 0.33333333]\n",
      " [ 1.66666667]]\n",
      "1.66666666667\n",
      "Solved\n",
      "cjzj =  [ 0.   0.   0.6  0.2]\n"
     ]
    }
   ],
   "source": [
    "A = [[1,3],[2,1]]\n",
    "b = [9,8]\n",
    "c = [-1,-2]\n",
    "\n",
    "simplex_phase2 (A, b, c)"
   ]
  },
  {
   "cell_type": "code",
   "execution_count": 41,
   "metadata": {
    "collapsed": false,
    "scrolled": false
   },
   "outputs": [
    {
     "name": "stdout",
     "output_type": "stream",
     "text": [
      "[[ 1.]\n",
      " [ 3.]]\n",
      "3.0\n",
      "[[-6.]\n",
      " [ 0.]]\n"
     ]
    }
   ],
   "source": [
    "A = [[1, -6], [3, 0]]\n",
    "b = [5, 11]\n",
    "c = [-4, -3]\n",
    "simplex_phase2 (A, b, c)"
   ]
  },
  {
   "cell_type": "code",
   "execution_count": 4,
   "metadata": {
    "collapsed": false
   },
   "outputs": [
    {
     "name": "stdout",
     "output_type": "stream",
     "text": [
      "     fun: -14.666666666666666\n",
      " message: 'Optimization failed. The problem appears to be unbounded.'\n",
      "     nit: 1\n",
      "   slack: array([ 1.33333333,  0.        ])\n",
      "  status: 3\n",
      " success: False\n",
      "       x: array([ 3.66666667,  0.        ])\n"
     ]
    }
   ],
   "source": [
    "from scipy.optimize import linprog\n",
    "A = [[1, -6], [3, 0]]\n",
    "b = [5, 11]\n",
    "c = [-4, -3]\n",
    "bounds = (0, None)\n",
    "\n",
    "res = linprog(c, A_ub=A, b_ub=b, bounds=(0,None))\n",
    "print(res)"
   ]
  },
  {
   "cell_type": "code",
   "execution_count": null,
   "metadata": {
    "collapsed": true
   },
   "outputs": [],
   "source": []
  },
  {
   "cell_type": "code",
   "execution_count": null,
   "metadata": {
    "collapsed": true
   },
   "outputs": [],
   "source": []
  }
 ],
 "metadata": {
  "anaconda-cloud": {},
  "kernelspec": {
   "display_name": "Python [Root]",
   "language": "python",
   "name": "Python [Root]"
  },
  "language_info": {
   "codemirror_mode": {
    "name": "ipython",
    "version": 3
   },
   "file_extension": ".py",
   "mimetype": "text/x-python",
   "name": "python",
   "nbconvert_exporter": "python",
   "pygments_lexer": "ipython3",
   "version": "3.5.2"
  }
 },
 "nbformat": 4,
 "nbformat_minor": 0
}
