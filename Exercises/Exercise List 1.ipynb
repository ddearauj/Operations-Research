{
 "cells": [
  {
   "cell_type": "markdown",
   "metadata": {},
   "source": [
    "# Exercise List 1 for LE901 - Operations Research\n",
    "\n",
    "## Daniel de Araujo Pereira\n",
    "\n",
    "1) An oil refinery buys 2 types of crude oil: light and heavy. The cost per barrel of these oils are \\$20 and \\$15 respectively. The quantities of gasoline, kerosene and jet fuel are presented on the table below:\n",
    "\n",
    "\n",
    "<table>\n",
    "  <tr>\n",
    "    <th> </th>\n",
    "    <th>Gasoline</th>\n",
    "    <th>Kerosene</th> \n",
    "    <th>Jet Fuel</th>\n",
    "  </tr>\n",
    "  <tr>\n",
    "    <td>Light Oil</td>\n",
    "    <td>0.4</td> \n",
    "    <td>0.2</td>\n",
    "    <td>0.35</td>\n",
    "  </tr>\n",
    "  <tr>\n",
    "    <td>Heavy Oil</td>\n",
    "    <td>0.32</td> \n",
    "    <td>0.4</td>\n",
    "    <td>0.2</td>\n",
    "  </tr>\n",
    "</table>\n",
    "\n",
    "During the industrial process, there are losses of 5% and 8% respectively. The refinery has a contract of 1M barrels of Gasoline, .5M barrels of Kerosene and .3M barrels of Jet Fuel. Elaborate a LP model and find the oil barrel quantity to meet the demands and minimize cost."
   ]
  },
  {
   "cell_type": "markdown",
   "metadata": {},
   "source": [
    "Let x1 be the # of light oil barrel, x2 of Heavy oil. then the LP model is:\n",
    "\n",
    "    Min z =   20x1 + 15x2\n",
    "    \n",
    "    subject to:\n",
    "    \n",
    "                .95*.40x1 + .92*.32x2 >= 1.000.000\n",
    "                .95*.20x1 + .92*.40x2 >= 500.000\n",
    "                .95*.35x1 + .92*.20x2 >= 300.000\n",
    "                \n",
    "    with\n",
    "                xi >=0 for i = 1, 2"
   ]
  },
  {
   "cell_type": "code",
   "execution_count": 5,
   "metadata": {
    "collapsed": false
   },
   "outputs": [],
   "source": [
    "from scipy.optimize import linprog\n",
    "\n",
    "cost = [20, 15]\n",
    "A_upper = [[-0.38, -0.2944],\n",
    "           [-0.19, -0.368],\n",
    "           [-0.3325, -0.184]]\n",
    "\n",
    "b_upper = [-1000000, -500000, -300000]\n",
    "\n",
    "\n",
    "res = linprog(cost,\n",
    "              A_ub=A_upper,\n",
    "              b_ub=b_upper,\n",
    "              bounds=(0, None))\n"
   ]
  },
  {
   "cell_type": "code",
   "execution_count": 6,
   "metadata": {
    "collapsed": false
   },
   "outputs": [
    {
     "name": "stdout",
     "output_type": "stream",
     "text": [
      "     fun: -1.1641532182693481e-10\n",
      " message: 'Optimization failed. Unable to find a feasible starting point.'\n",
      "     nit: 3\n",
      "  status: 2\n",
      " success: False\n",
      "       x: nan\n"
     ]
    }
   ],
   "source": [
    "print(res)"
   ]
  },
  {
   "cell_type": "markdown",
   "metadata": {},
   "source": [
    "2) A farmar has 400 hectares of land and it is interested in planting on it next year. He has 3 possible products to plant: corn, soy and wheat. He is sure he wants to have all of his property planted. Planting corn costs \\$2000/ha and 20 men days of work to prepare an hectare and it returns a profit of \\$600/ha.\n",
    "\n",
    "Wheat requires an investment of \\$2400/ha, profit of \\$800/ha and requires 30 men-days of work.\n",
    "Soy demands 24 men-days work, investment of \\$1400/ha and a profit of $\\400. There is no shortage of workers and owner has 800000 to invest for next year.\n",
    "\n",
    "\n",
    "    x1 = # hectares of corn\n",
    "    x2 = # hectares of wheat\n",
    "    x3 = # hectares of soy\n",
    "    \n",
    "    max z = 600x1 + 800x2 + 400x3\n",
    "    \n",
    "    subject to\n",
    "            2000x1 + 2400x2 + 1400x3 <= 800000\n",
    "                x1 +     x2 +     x3  = 400\n",
    "            \n",
    "    with x1, x2, x3 >= 0"
   ]
  },
  {
   "cell_type": "code",
   "execution_count": 5,
   "metadata": {
    "collapsed": false
   },
   "outputs": [],
   "source": [
    "cost = [-600, -800, -400]\n",
    "A_upper = [[2000, 2400, 1400]]\n",
    "\n",
    "b_upper = [800000]\n",
    "\n",
    "A_equal = [[1, 1, 1]]\n",
    "\n",
    "b_equal = [400]\n",
    "\n",
    "res = linprog(cost,\n",
    "              A_ub=A_upper,\n",
    "              b_ub=b_upper,\n",
    "              A_eq=A_equal,\n",
    "              b_eq=b_equal,\n",
    "              bounds=(0, None))"
   ]
  },
  {
   "cell_type": "code",
   "execution_count": 6,
   "metadata": {
    "collapsed": false
   },
   "outputs": [
    {
     "name": "stdout",
     "output_type": "stream",
     "text": [
      "     fun: -256000.0\n",
      " message: 'Optimization terminated successfully.'\n",
      "     nit: 3\n",
      "   slack: array([ 0.])\n",
      "  status: 0\n",
      " success: True\n",
      "       x: array([   0.,  240.,  160.])\n"
     ]
    }
   ],
   "source": [
    "print(res)"
   ]
  },
  {
   "cell_type": "markdown",
   "metadata": {
    "collapsed": true
   },
   "source": [
    "A factory produces paints from the raw materials M1 and M2. For internal and external uses.\n",
    "\n",
    "<table>\n",
    "  <tr>\n",
    "    <th> </th>\n",
    "    <th>Matrial Consumption</th>\n",
    "    <th></th> \n",
    "    <th>Availabilty</th>\n",
    "  </tr>\n",
    "  <tr>\n",
    "    <td>Material</td>\n",
    "    <td>Exterior</td> \n",
    "    <td>Interior</td>\n",
    "    <td>(t/day)</td>\n",
    "  </tr>\n",
    "  <tr>\n",
    "    <td>M1</td>\n",
    "    <td>6</td> \n",
    "    <td>4</td>\n",
    "    <td>24</td>\n",
    "  </tr>\n",
    "  <tr>\n",
    "    <td>M2</td>\n",
    "    <td>1</td> \n",
    "    <td>2</td>\n",
    "    <td>6</td>\n",
    "  </tr>\n",
    "  <tr>\n",
    "    <td>Profit/ton</td>\n",
    "    <td>5000</td> \n",
    "    <td>4000</td>\n",
    "    <td></td>\n",
    "  </tr>\n",
    "</table>\n",
    "\n",
    "\n",
    "A market research indicated that the daily demand for the interior paint is not a ton bigger than the exterior. The maximum daily demand for the interior paint is of 2 tons. Maximize profit."
   ]
  },
  {
   "cell_type": "markdown",
   "metadata": {},
   "source": [
    "    x1 = tons of exterior paint\n",
    "    x2 = tons of interior paint\n",
    "    x1 <= x2 + 1\n",
    "    x2 <= 2\n",
    "    6x1 + 4x2 <= 24\n",
    "    1x1 + 2x2 <= 6\n",
    "    \n",
    "    max 5000x1 + 4000x2\n",
    "    \n",
    "    subject to\n",
    "        6x1 + 4x2 <= 24\n",
    "        1x1 + 2x2 <= 6\n",
    "        1x1 - 1x2 <= 1\n",
    "        0x1 + 1x2 <= 2"
   ]
  },
  {
   "cell_type": "code",
   "execution_count": 7,
   "metadata": {
    "collapsed": false
   },
   "outputs": [],
   "source": [
    "cost = [-5000, -4000]\n",
    "A_upper = [[6, 4],\n",
    "           [1, 2],\n",
    "           [1, -1],\n",
    "           [0, 1]]\n",
    "\n",
    "b_upper = [24, 6, 1, 2]\n",
    "\n",
    "res = linprog(cost,\n",
    "              A_ub=A_upper,\n",
    "              b_ub=b_upper,\n",
    "              bounds=(0, None))"
   ]
  },
  {
   "cell_type": "code",
   "execution_count": 8,
   "metadata": {
    "collapsed": false
   },
   "outputs": [
    {
     "name": "stdout",
     "output_type": "stream",
     "text": [
      "     fun: -20000.0\n",
      " message: 'Optimization terminated successfully.'\n",
      "     nit: 2\n",
      "   slack: array([ 1.33333333,  0.        ,  0.        ,  0.33333333])\n",
      "  status: 0\n",
      " success: True\n",
      "       x: array([ 2.66666667,  1.66666667])\n"
     ]
    }
   ],
   "source": [
    "print(res)"
   ]
  },
  {
   "cell_type": "code",
   "execution_count": null,
   "metadata": {
    "collapsed": true
   },
   "outputs": [],
   "source": []
  }
 ],
 "metadata": {
  "anaconda-cloud": {},
  "kernelspec": {
   "display_name": "Python [Root]",
   "language": "python",
   "name": "Python [Root]"
  },
  "language_info": {
   "codemirror_mode": {
    "name": "ipython",
    "version": 3
   },
   "file_extension": ".py",
   "mimetype": "text/x-python",
   "name": "python",
   "nbconvert_exporter": "python",
   "pygments_lexer": "ipython3",
   "version": "3.5.2"
  }
 },
 "nbformat": 4,
 "nbformat_minor": 0
}
