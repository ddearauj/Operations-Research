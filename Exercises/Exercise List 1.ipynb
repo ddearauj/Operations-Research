{
 "cells": [
  {
   "cell_type": "markdown",
   "metadata": {},
   "source": [
    "# Exercise List 1 for LE901 - Operations Research\n",
    "\n",
    "## Daniel de Araujo Pereira\n",
    "\n",
    "1) An oil refinery buys 2 types of crude oil: light and heavy. The cost per barrel of these oils are \\$20 and \\$15 respectively. The quantities of gasoline, kerosene and jet fuel are presented on the table below:\n",
    "\n",
    "\n",
    "<table>\n",
    "  <tr>\n",
    "    <th> </th>\n",
    "    <th>Gasoline</th>\n",
    "    <th>Kerosene</th> \n",
    "    <th>Jet Fuel</th>\n",
    "  </tr>\n",
    "  <tr>\n",
    "    <td>Light Oil</td>\n",
    "    <td>0.4</td> \n",
    "    <td>0.2</td>\n",
    "    <td>0.35</td>\n",
    "  </tr>\n",
    "  <tr>\n",
    "    <td>Heavy Oil</td>\n",
    "    <td>0.32</td> \n",
    "    <td>0.4</td>\n",
    "    <td>0.2</td>\n",
    "  </tr>\n",
    "</table>\n",
    "\n",
    "During the industrial process, there are losses of 5% and 8% respectively. The refinery has a contract of 1M barrels of Gasoline, .5M barrels of Kerosene and .3M barrels of Jet Fuel. Elaborate a LP model and find the oil barrel quantity to meet the demands and minimize cost."
   ]
  },
  {
   "cell_type": "markdown",
   "metadata": {},
   "source": [
    "Let x1 be the # of light oil barrel, x2 of Heavy oil, x3 of gas, x4 of Kerosene and x5 of jetfuel. then the LP model is:\n",
    "\n",
    "    Min z =   20x1 + 15x2\n",
    "    \n",
    "    subject to:\n",
    "    \n",
    "                0x1 +   0x2 +  1x3 +  0x4 +  0x5 >= 1.000.000\n",
    "                0x1 +   0x2 +  0x3 +  1x4 +  0x5 >= 500.000\n",
    "                0x1 +   0x2 +  0x3 +  0x4 +  1x5 >= 300.000\n",
    "            -1.05x1 +   0x2 + .4x3 + .2x4 + .3x5  = 0\n",
    "                0x1 - 1.9x2 + .3x3 + .4x4 + .2x5  = 0\n",
    "                \n",
    "    with\n",
    "                xi >=0 for i = 1, 2, ... 5"
   ]
  },
  {
   "cell_type": "code",
   "execution_count": 1,
   "metadata": {
    "collapsed": false
   },
   "outputs": [],
   "source": [
    "from scipy.optimize import linprog\n",
    "\n",
    "cost = [20, 15, 0, 0, 0]\n",
    "A_upper = [[0, 0, -1, 0, 0],\n",
    "           [0, 0, 0, -1, 0],\n",
    "           [0, 0, 0, 0, -1]]\n",
    "\n",
    "b_upper = [-1000000, -500000, -300000]\n",
    "\n",
    "A_equal = [[-1.05, 0, .4, .2, .35],\n",
    "           [0, -1.9, .32, .4, .2]]\n",
    "\n",
    "b_equal = [0, 0]\n",
    "\n",
    "res = linprog(cost,\n",
    "              A_ub=A_upper,\n",
    "              b_ub=b_upper,\n",
    "              A_eq=A_equal,\n",
    "              b_eq=b_equal,\n",
    "              bounds=(0, None))\n"
   ]
  },
  {
   "cell_type": "code",
   "execution_count": 2,
   "metadata": {
    "collapsed": false
   },
   "outputs": [
    {
     "name": "stdout",
     "output_type": "stream",
     "text": [
      "     fun: -1.1641532182693481e-10\n",
      " message: 'Optimization failed. Unable to find a feasible starting point.'\n",
      "     nit: 5\n",
      "  status: 2\n",
      " success: False\n",
      "       x: nan\n"
     ]
    }
   ],
   "source": [
    "print(res)"
   ]
  },
  {
   "cell_type": "markdown",
   "metadata": {},
   "source": [
    "2) A farmar has 400 hectares of land and it is interested in planting on it next year. He has 3 possible products to plant: corn, soy and wheat. He is sure he wants to have all of his property planted. Planting corn costs \\$2000/ha and 20 men days of work to prepare an hectare and it returns a profit of \\$600/ha.\n",
    "\n",
    "Wheat requires an investment of \\$2400/ha, profit of \\$800/ha and requires 30 men-days of work.\n",
    "Soy demands 24 men-days work, investment of \\$1400/ha and a profit of $\\400. There is no shortage of workers and owner has 800000 to invest for next year.\n",
    "\n",
    "\n",
    "    x1 = # hectares of corn\n",
    "    x2 = # hectares of wheat\n",
    "    x3 = # hectares of soy\n",
    "    \n",
    "    max z = 600x1 + 800x2 + 400x3\n",
    "    \n",
    "    subject to\n",
    "            2000x1 + 2400x2 + 1400x3 <= 800000\n",
    "                x1 +     x2 +     x3  = 400\n",
    "            \n",
    "    with x1, x2, x3 >= 0"
   ]
  },
  {
   "cell_type": "code",
   "execution_count": 5,
   "metadata": {
    "collapsed": false
   },
   "outputs": [],
   "source": [
    "cost = [-600, -800, -400]\n",
    "A_upper = [[2000, 2400, 1400]]\n",
    "\n",
    "b_upper = [800000]\n",
    "\n",
    "A_equal = [[1, 1, 1]]\n",
    "\n",
    "b_equal = [400]\n",
    "\n",
    "res = linprog(cost,\n",
    "              A_ub=A_upper,\n",
    "              b_ub=b_upper,\n",
    "              A_eq=A_equal,\n",
    "              b_eq=b_equal,\n",
    "              bounds=(0, None))"
   ]
  },
  {
   "cell_type": "code",
   "execution_count": 6,
   "metadata": {
    "collapsed": false
   },
   "outputs": [
    {
     "name": "stdout",
     "output_type": "stream",
     "text": [
      "     fun: -256000.0\n",
      " message: 'Optimization terminated successfully.'\n",
      "     nit: 3\n",
      "   slack: array([ 0.])\n",
      "  status: 0\n",
      " success: True\n",
      "       x: array([   0.,  240.,  160.])\n"
     ]
    }
   ],
   "source": [
    "print(res)"
   ]
  },
  {
   "cell_type": "markdown",
   "metadata": {
    "collapsed": true
   },
   "source": [
    "\n",
    "Uma indústria produz tintas para exterior e interior a partir de duas matérias-primas, M1 e M2. Considere as seguintes informações:\n",
    "Consumo de material Disponível Material Exterior Interior (t/dia)\n",
    "M1 6 4 24\n",
    "M2 1 2 6 Lucro/tonelada 5 mil 4 mil\n",
    "￼Monitores: PED: Janaina Silva PED: Lucas Berquo\n",
    "￼￼￼\n",
    "Gasolina comum\n",
    "Querosene\n",
    "Gasolina Aviação\n",
    "Óleo leve\n",
    "0,4\n",
    "0,2\n",
    "0,35\n",
    "Óleo pesado\n",
    "0,32\n",
    "0,4\n",
    "0,20\n",
    "￼￼￼￼￼1\n",
    "Uma pesquisa de mercado indicou que a demanda diária da tinta para interior não excede a da tinta para exterior em mais de 1 tonelada. Além disso, a demanda diária máxima da tinta para interior é de 2 toneladas. Construa um modelo de programação linear para determinar o mix de produtos ótimo, isto é, quanto produzir de cada tipo de tinta de modo a maximizar o lucro da empresa. Implemente o modelo em algum software de otimização (Lpsolve ou GAMS)."
   ]
  }
 ],
 "metadata": {
  "anaconda-cloud": {},
  "kernelspec": {
   "display_name": "Python [Root]",
   "language": "python",
   "name": "Python [Root]"
  },
  "language_info": {
   "codemirror_mode": {
    "name": "ipython",
    "version": 3
   },
   "file_extension": ".py",
   "mimetype": "text/x-python",
   "name": "python",
   "nbconvert_exporter": "python",
   "pygments_lexer": "ipython3",
   "version": "3.5.2"
  }
 },
 "nbformat": 4,
 "nbformat_minor": 0
}
