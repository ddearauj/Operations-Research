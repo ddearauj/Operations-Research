{
 "cells": [
  {
   "cell_type": "markdown",
   "metadata": {},
   "source": [
    "# Analise de Sensibilidade\n",
    "\n",
    "### NOTE: teve uma pesquisa da universidade na aula, por tanto não teve a primeira 1 hora e 30 min. Aula foi muito curta\n",
    "\n",
    "\n",
    "## Tipos de analise de sensibilidade\n",
    "\n",
    "1. Mudança nos coeficientes das variáveis não basicas da FO\n",
    "2. Mudança nos coeficientes das variáveis básicas da FO\n",
    "3. Mudança nos dados da matriz técnológica do problema em var. nao basicas\n",
    "4. Adicionar restrição\n",
    "5. Adicionar variável\n",
    "6. Mudança nos dados da matriz técnológica do problema em var. basicas\n",
    "\n"
   ]
  },
  {
   "cell_type": "markdown",
   "metadata": {},
   "source": [
    "Para fazer a análise, pegamos o ultimo tableau\n",
    "\n",
    "## Analise Tipo 1\n",
    "\n",
    "Se o problema for de max, e o custo relativo for menor que zero, a solução mantem a mesma, ja que a variavel que foi mudada não vai entrar na base.\n",
    "\n",
    "Ou seja, o cj-zj vai dar um cj critico e temos o valor para qual ele entra na base\n",
    "\n",
    "## Analise Tipo 2\n",
    "\n",
    "nesse caso, zj muda! então precisa fazer tudo de novo para ver se algo muda"
   ]
  },
  {
   "cell_type": "code",
   "execution_count": null,
   "metadata": {
    "collapsed": true
   },
   "outputs": [],
   "source": []
  }
 ],
 "metadata": {
  "anaconda-cloud": {},
  "kernelspec": {
   "display_name": "Python [Root]",
   "language": "python",
   "name": "Python [Root]"
  },
  "language_info": {
   "codemirror_mode": {
    "name": "ipython",
    "version": 3
   },
   "file_extension": ".py",
   "mimetype": "text/x-python",
   "name": "python",
   "nbconvert_exporter": "python",
   "pygments_lexer": "ipython3",
   "version": "3.5.2"
  }
 },
 "nbformat": 4,
 "nbformat_minor": 0
}
